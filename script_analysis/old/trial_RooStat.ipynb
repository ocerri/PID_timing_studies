{
 "cells": [
  {
   "cell_type": "code",
   "execution_count": 1,
   "metadata": {},
   "outputs": [
    {
     "name": "stdout",
     "output_type": "stream",
     "text": [
      "Welcome to JupyROOT 6.10/08\n"
     ]
    }
   ],
   "source": [
    "import numpy as np\n",
    "import ROOT as rt"
   ]
  },
  {
   "cell_type": "markdown",
   "metadata": {},
   "source": [
    "Efficiency calculator"
   ]
  },
  {
   "cell_type": "code",
   "execution_count": 2,
   "metadata": {},
   "outputs": [
    {
     "name": "stdout",
     "output_type": "stream",
     "text": [
      "(0.044444444444444446, 0.0009714723739706669)\n",
      "(0.0, 2.9957322178475465e-09)\n"
     ]
    }
   ],
   "source": [
    "def compute_Eff(p, t, alpha = 0.05):\n",
    "    e = p/t\n",
    "    if e == 0:\n",
    "        de = 1 - np.power(alpha, 1/t)\n",
    "    else:\n",
    "        de = np.sqrt(p*(1-e))/t\n",
    "    return e,de\n",
    "\n",
    "print compute_Eff(2000., 45000.)\n",
    "\n",
    "print compute_Eff(0, 1.E9)"
   ]
  },
  {
   "cell_type": "markdown",
   "metadata": {},
   "source": [
    "# Analysis"
   ]
  },
  {
   "cell_type": "code",
   "execution_count": 3,
   "metadata": {},
   "outputs": [],
   "source": [
    "N_bkg = 3100\n",
    "N_sig = 200\n",
    "\n",
    "binning = [40, 0, 400]\n",
    "\n",
    "histo_bkg = {'path':'../_root/histos/RecoMassSpectrum_bkg.root', 'name':'h_mass_200-INF'}"
   ]
  },
  {
   "cell_type": "code",
   "execution_count": 7,
   "metadata": {},
   "outputs": [
    {
     "name": "stdout",
     "output_type": "stream",
     "text": [
      "[#0] ERROR:ObjectHandling -- RooFactoryWSTool::createArg() ERROR class GausDoubleExp not defined in ROOT class table\n",
      "[#0] ERROR:ObjectHandling -- RooFactoryWSTool::createArg() ERROR class GausDoubleExp not found in factory alias table, nor in ROOT class table\n",
      "[#0] ERROR:ObjectHandling -- RooFactoryWSTool::processExpression() ERRORS detected, transaction to workspace aborted, no objects committed\n",
      "[#0] ERROR:ObjectHandling -- RooFactoryWSTool::add(model) ERROR creating RooAddPdf: RooAbsPdf named sig_pdf not found\n",
      "[#0] ERROR:ObjectHandling -- RooFactoryWSTool::processExpression() ERRORS detected, transaction to workspace aborted, no objects committed\n"
     ]
    }
   ],
   "source": [
    "w = rt.RooWorkspace()\n",
    "w.SetNameTitle('w_TOF_HSCP', 'w_TOF_HSCP')\n",
    "w.addClassDeclImportDir(\"/Users/olmo/cernbox/PID_timing_studies/script_analysis\")\n",
    "w.importClassCode(\"RooGausDoubleExp\", 1)\n",
    "\n",
    "\n",
    "w.factory('Exponential:bkg_pdf(Mass[{},{}], lambda[-0.023,-5,-0.001])'.format(binning[1], binning[2]))\n",
    "w.factory(\"GausDoubleExp:sig_pdf(Mass, mu[200., 100, 4000], sigma[30., 10, 500], aL[2, 0.1, 3], aR[1.5, 0.1, 3])\");\n",
    "w.factory('SUM:model(nsig[0,10000]*sig_pdf, nbkg[0,10000]*bkg_pdf)')\n",
    "\n",
    "w.var('Mass').setBins(binning[0])"
   ]
  },
  {
   "cell_type": "code",
   "execution_count": null,
   "metadata": {},
   "outputs": [],
   "source": [
    "f_bkg = rt.TFile.Open(histo_bkg['path'])\n",
    "h_bkg = f_bkg.Get(histo_bkg['name'])\n",
    "h_bkg.SetNameTitle('h_bkg', 'h_bkg')\n",
    "\n",
    "roohist_bkg = rt.RooDataHist('bkg_MCHist_pdf', 'bkg_MCHist_pdf', rt.RooArgList(w.var('Mass')), h_bkg)\n",
    "bkg_histpdf = rt.RooHistPdf('bkg_MCHist_pdf', 'bkg_MCHist_pdf', rt.RooArgSet(w.var('Mass')), roohist_bkg, 2)\n",
    "\n",
    "# getattr(w,\"import\")(bkg_histpdf, 'bkg_MCHist_pdf', 1)\n",
    "# w.factory('AbsPdf:bkg_MCHist_abspdf(Mass,bkg_MCHist_pdf)')\n",
    "\n",
    "getattr(w,\"import\")(bkg_histpdf)\n",
    "w.Print()\n",
    "\n",
    "\n",
    "w.factory('Gaussian:sig_data_pdf(Mass, mu_data[200.], sigma_data[30.])')\n",
    "w.factory('SUM:data_pdf(nsig_data[0,10000]*sig_data_pdf, nbkg_data[0,10000]*bkg_MCHist_pdf)')\n",
    "\n",
    "\n",
    "w.Print()\n",
    "# w.factory('DataHist:bkg_MCHist(Mass, h_bkg)')\n",
    "# w.factory('HistPdf:bkg_MCHist_pdf(Mass,h_bkg)')"
   ]
  },
  {
   "cell_type": "code",
   "execution_count": null,
   "metadata": {},
   "outputs": [],
   "source": [
    "pdf = w.pdf(\"model\")\n",
    "rt.RooRealVar *m = w.var(\"Mass\")\n",
    "# m.setBins(binning[0])\n",
    "\n",
    "w.var(\"nsig\").setVal(N_sig)\n",
    "w.var(\"nbkg\").setVal(N_bkg)"
   ]
  },
  {
   "cell_type": "code",
   "execution_count": null,
   "metadata": {},
   "outputs": [],
   "source": [
    "data = pdf.generate(m)\n",
    "\n",
    "data.SetName(\"data\")\n",
    "# w.import(data)\n",
    "\n",
    "data.Print()"
   ]
  },
  {
   "cell_type": "code",
   "execution_count": null,
   "metadata": {},
   "outputs": [],
   "source": []
  },
  {
   "cell_type": "code",
   "execution_count": null,
   "metadata": {},
   "outputs": [],
   "source": [
    "import ROOT\n",
    "from ROOT import RooFit as RF\n",
    "from ROOT import RooStats as RS\n",
    "\n",
    "NTOYS = 1000\n",
    "\n",
    "\n",
    "# ROOT settings\n",
    "ROOT.Math.MinimizerOptions.SetDefaultMinimizer('Minuit2')\n",
    "\n",
    "# Workspace\n",
    "w = ROOT.RooWorkspace('w')\n",
    "\n",
    "# Observable\n",
    "E = w.factory('E[0.,100.]')\n",
    "\n",
    "# Constrained parameters and constraint PDF\n",
    "mean = w.factory('mean[50.,49.,51.]')\n",
    "mean_obs = w.factory('mean_obs[50.,49.,51.]')\n",
    "mean_obs.setConstant(True)\n",
    "mean_err = w.factory('mean_err[0.2]')\n",
    "cpdf_mean = w.factory('Gaussian::cpdf_mean(mean,mean_obs,mean_err)')\n",
    "\n",
    "sigma = w.factory('sigma[1.,0.5,1.5]')\n",
    "sigma_obs = w.factory('sigma_obs[1.,0.5,1.5]')\n",
    "sigma_obs.setConstant(True)\n",
    "sigma_err = w.factory('sigma_err[0.1]')\n",
    "cpdf_sigma = w.factory('Gaussian::cpdf_sigma(sigma,sigma_obs,sigma_err)')\n",
    "\n",
    "# Signal\n",
    "n_sig = w.factory('n_sig[0.,0.,10.]')\n",
    "pdf_sig = w.factory('Gaussian::pdf_sig(E,mean,sigma)')\n",
    "\n",
    "# Background\n",
    "n_bkg = w.factory('n_bkg[10.,0.,50.]')\n",
    "pdf_bkg = w.factory('Polynomial::pdf_bkg(E,{})')\n",
    "\n",
    "# PDF\n",
    "pdf_sum = w.factory('SUM::pdf_sum(n_sig*pdf_sig,n_bkg*pdf_bkg)')\n",
    "pdf_const = w.factory('PROD::pdf_const({pdf_sum,cpdf_mean,cpdf_sigma})')\n",
    "\n",
    "# ModelConfig\n",
    "mc = RS.ModelConfig('mc', w)\n",
    "mc.SetPdf( pdf_const )\n",
    "mc.SetParametersOfInterest( ROOT.RooArgSet(n_sig) )\n",
    "mc.SetObservables( ROOT.RooArgSet(E) )\n",
    "mc.SetConstraintParameters( ROOT.RooArgSet(mean, sigma) )\n",
    "mc.SetNuisanceParameters( ROOT.RooArgSet(mean, sigma, n_bkg) )\n",
    "mc.SetGlobalObservables( ROOT.RooArgSet(mean_obs, sigma_obs) )\n",
    "\n",
    "# Create toy data\n",
    "data = pdf_sum.generate(ROOT.RooArgSet(E), RF.Name('data'), RF.Verbose(True), RF.Extended())\n",
    "ROOT.RooAbsData.setDefaultStorageType(ROOT.RooAbsData.Vector)\n",
    "data.convertToVectorStore()\n",
    "\n",
    "# Print workspace\n",
    "w.Print()\n",
    "\n",
    "# Get RooStats ModelConfig from workspace and save it as Signal+Background model\n",
    "sbModel = mc\n",
    "poi = sbModel.GetParametersOfInterest().first()\n",
    "poi.setVal(1.)\n",
    "sbModel.SetSnapshot(ROOT.RooArgSet(poi))\n",
    "\n",
    "# Clone S+B model, set POI to zero and set as B-Only model\n",
    "bModel = mc.Clone()\n",
    "bModel.SetName('mc_with_poi_0')\n",
    "poi.setVal(0.)\n",
    "bModel.SetSnapshot(ROOT.RooArgSet(poi))\n",
    "\n",
    "RS.UseNLLOffset(True)\n",
    "\n",
    "hc = RS.FrequentistCalculator(data, bModel, sbModel)\n",
    "hc.SetToys(int(NTOYS), int(NTOYS/2.))\n",
    "hc.StoreFitInfo(True)\n",
    "hc.UseSameAltToys()\n",
    "\n",
    "# Test statistics a: profile likelihood\n",
    "profll = RS.ProfileLikelihoodTestStat(sbModel.GetPdf())\n",
    "profll.EnableDetailedOutput()\n",
    "profll.SetLOffset(True)\n",
    "profll.SetMinimizer('Minuit2')\n",
    "profll.SetOneSided(False)\n",
    "profll.SetPrintLevel(0)\n",
    "profll.SetStrategy(2)\n",
    "profll.SetAlwaysReuseNLL(True)\n",
    "profll.SetReuseNLL(True)\n",
    "\n",
    "# Test statistics b\n",
    "eventstat = RS.NumEventsTestStat(sbModel.GetPdf())\n",
    "\n",
    "# Choose test statistics\n",
    "teststat = profll\n",
    "# teststat = eventstat\n",
    "\n",
    "toymcs = hc.GetTestStatSampler()\n",
    "toymcs.SetTestStatistic(teststat)\n",
    "toymcs.SetUseMultiGen(True)\n",
    "\n",
    "# HypoTestInverter\n",
    "calc = RS.HypoTestInverter(hc)\n",
    "calc.SetConfidenceLevel(0.90)\n",
    "calc.UseCLs(True)\n",
    "calc.SetVerbose(False)\n",
    "calc.SetFixedScan(6, 0., 5., False)\n",
    "hypotestresult = calc.GetInterval()\n",
    "\n",
    "# Plot HypoTestInverter result\n",
    "canvas = ROOT.TCanvas()\n",
    "plot = RS.HypoTestInverterPlot('hypotest_inverter', 'hypotest inverter', hypotestresult)\n",
    "plot.MakePlot()\n",
    "plot.MakeExpectedPlot()\n",
    "plot.Draw('CLB2CL')\n",
    "\n",
    "# Print information\n",
    "hc.GetFitInfo().Print('v')\n",
    "teststat.GetDetailedOutput().Print('v')"
   ]
  }
 ],
 "metadata": {
  "kernelspec": {
   "display_name": "Python 2",
   "language": "python",
   "name": "python2"
  },
  "language_info": {
   "codemirror_mode": {
    "name": "ipython",
    "version": 2
   },
   "file_extension": ".py",
   "mimetype": "text/x-python",
   "name": "python",
   "nbconvert_exporter": "python",
   "pygments_lexer": "ipython2",
   "version": "2.7.14"
  }
 },
 "nbformat": 4,
 "nbformat_minor": 2
}
