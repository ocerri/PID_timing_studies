{
 "cells": [
  {
   "cell_type": "code",
   "execution_count": 1,
   "metadata": {},
   "outputs": [
    {
     "name": "stdout",
     "output_type": "stream",
     "text": [
      "Welcome to JupyROOT 6.12/06\n"
     ]
    },
    {
     "ename": "ImportError",
     "evalue": "No module named root_numpy",
     "output_type": "error",
     "traceback": [
      "\u001b[0;31m---------------------------------------------------------------------------\u001b[0m",
      "\u001b[0;31mImportError\u001b[0m                               Traceback (most recent call last)",
      "\u001b[0;32m<ipython-input-1-3938635ca6ef>\u001b[0m in \u001b[0;36m<module>\u001b[0;34m()\u001b[0m\n\u001b[1;32m      1\u001b[0m \u001b[0;32mimport\u001b[0m \u001b[0mnumpy\u001b[0m \u001b[0;32mas\u001b[0m \u001b[0mnp\u001b[0m\u001b[0;34m\u001b[0m\u001b[0m\n\u001b[1;32m      2\u001b[0m \u001b[0;32mimport\u001b[0m \u001b[0mROOT\u001b[0m \u001b[0;32mas\u001b[0m \u001b[0mrt\u001b[0m\u001b[0;34m\u001b[0m\u001b[0m\n\u001b[0;32m----> 3\u001b[0;31m \u001b[0;32mfrom\u001b[0m \u001b[0mroot_numpy\u001b[0m \u001b[0;32mimport\u001b[0m \u001b[0mroot2array\u001b[0m\u001b[0;34m\u001b[0m\u001b[0m\n\u001b[0m\u001b[1;32m      4\u001b[0m \u001b[0;32mfrom\u001b[0m \u001b[0mglob\u001b[0m \u001b[0;32mimport\u001b[0m \u001b[0mglob\u001b[0m\u001b[0;34m\u001b[0m\u001b[0m\n\u001b[1;32m      5\u001b[0m \u001b[0;32mfrom\u001b[0m \u001b[0mhisto_utilities\u001b[0m \u001b[0;32mimport\u001b[0m \u001b[0mcreate_TH2D\u001b[0m\u001b[0;34m,\u001b[0m \u001b[0mcreate_TH1D\u001b[0m\u001b[0;34m\u001b[0m\u001b[0m\n",
      "\u001b[0;32m/Users/olmo/programs/root_v6-12-06/lib/ROOT.pyc\u001b[0m in \u001b[0;36m_importhook\u001b[0;34m(name, *args, **kwds)\u001b[0m\n\u001b[1;32m    316\u001b[0m       \u001b[0;32mexcept\u001b[0m \u001b[0mException\u001b[0m\u001b[0;34m:\u001b[0m\u001b[0;34m\u001b[0m\u001b[0m\n\u001b[1;32m    317\u001b[0m          \u001b[0;32mpass\u001b[0m\u001b[0;34m\u001b[0m\u001b[0m\n\u001b[0;32m--> 318\u001b[0;31m    \u001b[0;32mreturn\u001b[0m \u001b[0m_orig_ihook\u001b[0m\u001b[0;34m(\u001b[0m \u001b[0mname\u001b[0m\u001b[0;34m,\u001b[0m \u001b[0;34m*\u001b[0m\u001b[0margs\u001b[0m\u001b[0;34m,\u001b[0m \u001b[0;34m**\u001b[0m\u001b[0mkwds\u001b[0m \u001b[0;34m)\u001b[0m\u001b[0;34m\u001b[0m\u001b[0m\n\u001b[0m\u001b[1;32m    319\u001b[0m \u001b[0;34m\u001b[0m\u001b[0m\n\u001b[1;32m    320\u001b[0m \u001b[0m__builtin__\u001b[0m\u001b[0;34m.\u001b[0m\u001b[0m__import__\u001b[0m \u001b[0;34m=\u001b[0m \u001b[0m_importhook\u001b[0m\u001b[0;34m\u001b[0m\u001b[0m\n",
      "\u001b[0;31mImportError\u001b[0m: No module named root_numpy"
     ]
    }
   ],
   "source": [
    "import numpy as np\n",
    "import ROOT as rt\n",
    "from root_numpy import root2array\n",
    "from glob import glob\n",
    "from histo_utilities import create_TH2D, create_TH1D\n",
    "from cebefo_style import cebefo_style\n",
    "import os, sys, re, glob\n",
    "import matplotlib.pyplot as plt\n",
    "\n",
    "cebefo_style()"
   ]
  },
  {
   "cell_type": "code",
   "execution_count": 2,
   "metadata": {},
   "outputs": [],
   "source": [
    "bkg_file_path = glob.glob('/Users/olmo/cernbox/PID_timing_studies/_root/flat_evt_copies/pp2HardQCD_PU140_*/*evtV2*')\n",
    "\n",
    "Sig_file_path = {}\n",
    "Sig_file_path[200] = '/Users/olmo/cernbox/PID_timing_studies/_root/flat_evt_copies/pp2RHad_PU140_M200/pp2RHad_PU140_M200_evtV2_50k.root'\n",
    "Sig_file_path[500] = '/Users/olmo/cernbox/PID_timing_studies/_root/flat_evt_copies/pp2RHad_PU140_M500/pp2RHad_PU140_M500_evtV2_50k.root'\n",
    "Sig_file_path[1000] = '/Users/olmo/cernbox/PID_timing_studies/_root/flat_evt_copies/pp2RHad_PU140_M1000/pp2RHad_PU140_M1000_evtV2_40k.root'\n",
    "\n",
    "files = {}\n",
    "tree = {}\n",
    "files[200] = rt.TFile(Sig_file_path[200], 'READ')\n",
    "tree[200] = files[200].Get('T')\n",
    "\n",
    "files[500] = rt.TFile(Sig_file_path[500], 'READ')\n",
    "tree[500] = files[500].Get('T')\n",
    "\n",
    "files[1000] = rt.TFile(Sig_file_path[1000], 'READ')\n",
    "tree[1000] = files[1000].Get('T')"
   ]
  },
  {
   "cell_type": "code",
   "execution_count": 3,
   "metadata": {},
   "outputs": [],
   "source": [
    "# binning_SumPT = [100, 0, 4000]\n",
    "N_binsx = 80\n",
    "# binning_SumPT = [N_binsx-1, np.logspace(np.log10(30), np.log10(10e3), N_binsx)]\n",
    "binning_SumPT = [N_binsx-1, np.linspace(50, 2e3, N_binsx)]\n",
    "\n",
    "ht_trigger = 'max_vtx_SumPT > 350'\n",
    "tof_trigger = 'mh>10 && same_vtx_idx && max_vtx_SumPT > 100'\n",
    "tof_trigger_woSumPt = 'mh>10 && same_vtx_idx'"
   ]
  },
  {
   "cell_type": "code",
   "execution_count": 4,
   "metadata": {},
   "outputs": [
    {
     "name": "stdout",
     "output_type": "stream",
     "text": [
      "Expected rate: 1.8 kHz\n",
      "Expected rate (TOF): 83.3 Hz\n"
     ]
    },
    {
     "name": "stderr",
     "output_type": "stream",
     "text": [
      "Warning in <TFile::Append>: Replacing existing TH1: h_aux (Potential memory leak).\n",
      "Warning in <TFile::Append>: Replacing existing TH1: h_aux (Potential memory leak).\n",
      "Warning in <TFile::Append>: Replacing existing TH1: h_aux (Potential memory leak).\n",
      "Warning in <TFile::Append>: Replacing existing TH1: h_aux (Potential memory leak).\n",
      "Warning in <TFile::Append>: Replacing existing TH1: h_aux (Potential memory leak).\n"
     ]
    }
   ],
   "source": [
    "h_sumPT_bkg = rt.TH1D('h_bkg', 'Hard QCD (#hat{p}_{T} > 150 GeV)', binning_SumPT[0], binning_SumPT[1])\n",
    "\n",
    "h_sumPT_bkg_newTrigger = rt.TH1D('h_bkg_new', 'Hard QCD (#hat{p}_{T} > 150 GeV), TOF trigger', binning_SumPT[0], binning_SumPT[1])\n",
    "# print 'Effective xsec'\n",
    "\n",
    "rate = 0\n",
    "rate_TOF = 0\n",
    "\n",
    "for path in bkg_file_path:\n",
    "    name = os.path.basename(path[:-14])[17:-3]\n",
    "#     print name\n",
    "    \n",
    "    f = rt.TFile(path, 'READ')\n",
    "    t = f.Get('T')\n",
    "    \n",
    "    xsec = f.Get('XSec')[0]\n",
    "    NEvts = f.Get('NEvts')[0]\n",
    "    eff = t.GetEntries(ht_trigger)/NEvts\n",
    "#     print 'xsec = {:.2e} fb ({:.1e} * {:.1e})'.format(xsec*eff, xsec, eff)\n",
    "    rate += xsec*eff\n",
    "    \n",
    "    eff = t.GetEntries(tof_trigger)/NEvts\n",
    "    rate_TOF += xsec*eff\n",
    "    \n",
    "    \n",
    "    \n",
    "    h_aux = rt.TH1D('h_aux', 'h_aux', binning_SumPT[0], binning_SumPT[1])\n",
    "    t.Project('h_aux', 'max_vtx_SumPT')\n",
    "    h_aux.Scale(1/h_aux.GetEntries())\n",
    "    \n",
    "    h_sumPT_bkg.Add(h_aux, xsec)\n",
    "    \n",
    "    h_aux = rt.TH1D('h_aux', 'h_aux', binning_SumPT[0], binning_SumPT[1])\n",
    "    t.Project('h_aux', 'max_vtx_SumPT', tof_trigger_woSumPt)\n",
    "    h_aux.Scale(1/h_aux.GetEntries())\n",
    "    \n",
    "    h_sumPT_bkg_newTrigger.Add(h_aux, xsec)\n",
    "    \n",
    "    f.Close()\n",
    "    \n",
    "rate *= 1e-15*1e-24  #from fb to cm^2\n",
    "rate *= 5e34 #peak luminosity\n",
    "print 'Expected rate: {:.1f} kHz'.format(1e-3 * rate)\n",
    "\n",
    "rate_TOF *= 1e-15*1e-24  #from fb to cm^2\n",
    "rate_TOF *= 5e34 #peak luminosity\n",
    "print 'Expected rate (TOF): {:.1f} Hz'.format(rate_TOF)\n",
    "    \n",
    "    \n",
    "h_sumPT_bkg.Scale(1./h_sumPT_bkg.Integral())\n",
    "h_sumPT_bkg.SetStats(0)\n",
    "h_sumPT_bkg.SetXTitle('#sum p_{t} [GeV]')\n",
    "h_sumPT_bkg.SetYTitle('Probability / {:.0f} GeV'.format(h_sumPT_bkg.GetBinWidth(1)))\n",
    "\n",
    "h_sumPT_bkg_newTrigger.Scale(1./h_sumPT_bkg_newTrigger.Integral())"
   ]
  },
  {
   "cell_type": "code",
   "execution_count": 5,
   "metadata": {},
   "outputs": [
    {
     "name": "stdout",
     "output_type": "stream",
     "text": [
      "{200: <ROOT.TH1D object (\"h_sig200\") at 0x7fc1b6400a70>, 1000: <ROOT.TH1D object (\"h_sig1000\") at 0x7fc1bb148440>, 500: <ROOT.TH1D object (\"h_sig500\") at 0x7fc1bb14a300>}\n"
     ]
    }
   ],
   "source": [
    "h_sig = {}\n",
    "h_sig_new = {}\n",
    "\n",
    "\n",
    "for m in Sig_file_path.keys():\n",
    "    h_sig[m] = rt.TH1D('h_sig'+str(m), 'R-Hadron '+str(m)+' GeV', binning_SumPT[0], binning_SumPT[1])\n",
    "    tree[m].Project('h_sig'+str(m), 'max_vtx_SumPT', 'exist_RHad_trk')\n",
    "    h_sig[m].Scale(1./h_sig[m].GetEntries())\n",
    "    \n",
    "    h_sig_new[m] = rt.TH1D('h_sig_new'+str(m), 'R-Hadron M = '+str(m)+' GeV, TOF trigger', binning_SumPT[0], binning_SumPT[1])\n",
    "    tree[m].Project('h_sig_new'+str(m), 'max_vtx_SumPT', tof_trigger_woSumPt + ' && exist_RHad_trk')\n",
    "    h_sig_new[m].Scale(1./h_sig[m].GetEntries())\n",
    "    \n",
    "print h_sig"
   ]
  },
  {
   "cell_type": "code",
   "execution_count": 6,
   "metadata": {},
   "outputs": [
    {
     "name": "stderr",
     "output_type": "stream",
     "text": [
      "Info in <TCanvas::SaveAs>: ROOT file /Users/olmo/cernbox/PID_timing_studies/_fig/paper_root/SumPT.root has been created\n"
     ]
    },
    {
     "data": {
      "image/png": "[encoded data removed]",
      "text/plain": [
       "<IPython.core.display.Image object>"
      ]
     },
     "metadata": {},
     "output_type": "display_data"
    }
   ],
   "source": [
    "c = rt.TCanvas('c', 'c', 800, 600)\n",
    "# c.SetLogy()\n",
    "c.SetLogx()\n",
    "# rt.gStyle.SetPalette(107)\n",
    "\n",
    "colors = [2,6,rt.kOrange+1]\n",
    "\n",
    "h_sumPT_bkg.Draw('PLC PMC E')\n",
    "h_sumPT_bkg_newTrigger.Draw('SAME PLC PMC E')\n",
    "\n",
    "for i, m in enumerate(h_sig.keys()):\n",
    "    h_sig[m].SetLineColor(colors[i])\n",
    "    h_sig[m].SetMarkerColor(colors[i])\n",
    "    h_sig[m].Draw('SAME E')\n",
    "    \n",
    "    h_sig_new[m].Sumw2(0)\n",
    "    h_sig_new[m].SetLineColor(colors[i])\n",
    "    h_sig_new[m].SetLineWidth(1)\n",
    "    h_sig_new[m].SetMarkerColor(colors[i])\n",
    "    h_sig_new[m].SetFillColor(colors[i])\n",
    "    h_sig_new[m].SetFillStyle(3003)\n",
    "    h_sig_new[m].Draw('SAME')\n",
    "\n",
    "\n",
    "leg = c.BuildLegend(0.5, 0.6, 0.9,0.9)\n",
    "\n",
    "line = rt.TLine()\n",
    "line.SetLineWidth(3)\n",
    "line.SetLineStyle(7)\n",
    "line.SetLineColor(1)\n",
    "line.DrawLine(370, 0, 370, 0.08)\n",
    "\n",
    "line.SetLineColor(8)\n",
    "line.DrawLine(150, 0, 150, 0.16)\n",
    "\n",
    "c.Draw()\n",
    "# c.SaveAs('/Users/olmo/cernbox/P25 GeID_timing_studies/_fig/paper_root/SumPT.root')"
   ]
  },
  {
   "cell_type": "code",
   "execution_count": null,
   "metadata": {},
   "outputs": [],
   "source": []
  },
  {
   "cell_type": "code",
   "execution_count": null,
   "metadata": {},
   "outputs": [],
   "source": []
  },
  {
   "cell_type": "code",
   "execution_count": null,
   "metadata": {},
   "outputs": [],
   "source": []
  }
 ],
 "metadata": {
  "kernelspec": {
   "display_name": "Python 2",
   "language": "python",
   "name": "python2"
  },
  "language_info": {
   "codemirror_mode": {
    "name": "ipython",
    "version": 2
   },
   "file_extension": ".py",
   "mimetype": "text/x-python",
   "name": "python",
   "nbconvert_exporter": "python",
   "pygments_lexer": "ipython2",
   "version": "2.7.14"
  }
 },
 "nbformat": 4,
 "nbformat_minor": 2
}
