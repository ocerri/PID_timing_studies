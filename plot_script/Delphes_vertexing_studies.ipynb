{
 "cells": [
  {
   "cell_type": "code",
   "execution_count": 1,
   "metadata": {},
   "outputs": [
    {
     "name": "stdout",
     "output_type": "stream",
     "text": [
      "Welcome to JupyROOT 6.12/06\n",
      "/Users/olmo/cernbox/PID_timing_studies/plot_script\n",
      "/Users/olmo/programs/Delphes\n"
     ]
    },
    {
     "data": {
      "text/plain": [
       "True"
      ]
     },
     "execution_count": 1,
     "metadata": {},
     "output_type": "execute_result"
    }
   ],
   "source": [
    "import numpy as np\n",
    "import ROOT as rt\n",
    "import os, glob\n",
    "\n",
    "import matplotlib.pyplot as plt\n",
    "%matplotlib notebook\n",
    "# plt.style.use('olmo')\n",
    "\n",
    "# from histo_utilities import create_TH1D\n",
    "from cebefo_style import cebefo_style\n",
    "cebefo_style()\n",
    "\n",
    "c_light = 2.99792458E8 #m/s\n",
    "!pwd\n",
    "os.chdir('/Users/olmo/programs/Delphes')\n",
    "!pwd\n",
    "\n",
    "rt.gSystem.Load(\"libDelphes\")\n",
    "rt.gInterpreter.Declare('#include \"classes/DelphesClasses.h\"')\n",
    "rt.gInterpreter.Declare('#include \"external/ExRootAnalysis/ExRootTreeReader.h\"')"
   ]
  },
  {
   "cell_type": "code",
   "execution_count": 2,
   "metadata": {
    "scrolled": true
   },
   "outputs": [
    {
     "name": "stdout",
     "output_type": "stream",
     "text": [
      "10000 events found\n"
     ]
    }
   ],
   "source": [
    "file_path = glob.glob('/Users/olmo/cernbox/PID_timing_studies/_root/jobs_PU140_delta_fulltree/pp2RHad_M500/*.root')\n",
    "\n",
    "chain = rt.TChain('Delphes')\n",
    "for path in file_path:\n",
    "    chain.Add(path)\n",
    "    \n",
    "# chain.Print()\n",
    "\n",
    "treeReader = rt.ExRootTreeReader(chain)\n",
    "numberOfEntries = treeReader.GetEntries()\n",
    "\n",
    "print numberOfEntries, 'events found'\n",
    "\n",
    "branches_names = ['Event', 'Particle', 'Track','Vertex4D', 'GenVertex']\n",
    "branch = {}\n",
    "\n",
    "for b in branches_names:\n",
    "    branch[b] = treeReader.UseBranch(b)"
   ]
  },
  {
   "cell_type": "code",
   "execution_count": 16,
   "metadata": {},
   "outputs": [
    {
     "name": "stdout",
     "output_type": "stream",
     "text": [
      "381 : More than one vtx wth RHad\n",
      "\n",
      "\n",
      "927 : More than one vtx wth RHad\n",
      "\n",
      "\n",
      "1514 : More than one vtx wth RHad\n",
      "\n",
      "\n",
      "4558 : More than one vtx wth RHad\n",
      "\n",
      "\n",
      "5965 : More than one vtx wth RHad\n",
      "\n",
      "\n",
      "8564 : More than one vtx wth RHad\n",
      "\n",
      "\n",
      "8948 : More than one vtx wth RHad\n",
      "\n",
      "\n"
     ]
    }
   ],
   "source": [
    "out_idx = np.zeros((numberOfEntries, 4)) - 1\n",
    "\n",
    "conuter_maxSumPT_vtx = np.zeros((numberOfEntries, 2))\n",
    "\n",
    "N_tk_genPV = np.zeros(numberOfEntries)\n",
    "\n",
    "for i in range(int(numberOfEntries*1.)):\n",
    "    treeReader.ReadEntry(i)\n",
    "    \n",
    "    genPV = branch['GenVertex'].At(0)\n",
    "    \n",
    "    i_cl = 0\n",
    "    min_d = 0\n",
    "    \n",
    "    i_maxSumPT = 0\n",
    "    maxSumPT = 0\n",
    "    \n",
    "    nv = branch['Vertex4D'].GetEntries()\n",
    "    if nv == 0:\n",
    "        print 'No vertexes found in evt', i\n",
    "        continue\n",
    "        \n",
    "    for j in range(nv):\n",
    "        vtx = branch['Vertex4D'].At(j)\n",
    "        \n",
    "        d = (vtx.Z - genPV.Z)/vtx.ErrorZ + (vtx.T - genPV.T)/vtx.ErrorT\n",
    "        if j == 0 or d < min_d:\n",
    "            i_cl = j\n",
    "            min_d = d\n",
    "            \n",
    "        if vtx.SumPT > maxSumPT:\n",
    "            i_maxSumPT = j\n",
    "            maxSumPT = vtx.SumPT\n",
    "            \n",
    "    N_PVtk = np.zeros(nv)\n",
    "    N_RHadtk = np.zeros(nv)\n",
    "    for j in range(branch['Track'].GetEntries()):\n",
    "        track = branch['Track'].At(j)\n",
    "        p = track.Particle.GetObject()\n",
    "        if p.IsPU < 0.5:\n",
    "            N_tk_genPV[i] += 1\n",
    "\n",
    "        v_idx = int(track.VertexIndex)\n",
    "        if v_idx >= 0 and p.IsPU < 0.5:\n",
    "            N_PVtk[v_idx] += 1\n",
    "            \n",
    "        if abs(p.PID) > 500000 and v_idx >= 0:\n",
    "            N_RHadtk[v_idx] += 1\n",
    "            \n",
    "        if v_idx == i_maxSumPT:\n",
    "            if p.IsPU < 0.5:\n",
    "                conuter_maxSumPT_vtx[i][0] += 1\n",
    "            else:\n",
    "                conuter_maxSumPT_vtx[i][1] += 1\n",
    "            \n",
    "    if np.sum(N_RHadtk > 0) > 1:\n",
    "        print i, ': More than one vtx wth RHad'\n",
    "#         print N_RHadtk\n",
    "        print '\\n'\n",
    "        \n",
    "    i_RHad = -2\n",
    "    if np.sum(N_RHadtk>0) > 0:\n",
    "        i_RHad = np.argmax(N_RHadtk)\n",
    "    \n",
    "    out_idx[i,0] = i_cl\n",
    "    out_idx[i,1] = i_maxSumPT\n",
    "    out_idx[i,2] = np.argmax(N_PVtk)\n",
    "    out_idx[i,3] = i_RHad"
   ]
  },
  {
   "cell_type": "code",
   "execution_count": 17,
   "metadata": {},
   "outputs": [
    {
     "data": {
      "text/plain": [
       "array([[ 4.,  1.,  1.,  1.],\n",
       "       [ 0., 29.,  2., -2.],\n",
       "       [25., 22., 22., 22.],\n",
       "       ...,\n",
       "       [ 0., 26., 26., 26.],\n",
       "       [12., 17., 17., 17.],\n",
       "       [11.,  4.,  4.,  4.]])"
      ]
     },
     "execution_count": 17,
     "metadata": {},
     "output_type": "execute_result"
    }
   ],
   "source": [
    "out_idx"
   ]
  },
  {
   "cell_type": "code",
   "execution_count": 21,
   "metadata": {},
   "outputs": [
    {
     "name": "stdout",
     "output_type": "stream",
     "text": [
      "0 1\n",
      "258\n",
      "0 2\n",
      "315\n",
      "0 3\n",
      "156\n",
      "1 2\n",
      "7843\n",
      "1 3\n",
      "6314\n",
      "2 3\n",
      "6262\n"
     ]
    }
   ],
   "source": [
    "for i in range(4):\n",
    "    for j in range(i+1,4):\n",
    "        print i,j, np.sum(out_idx[:,i] == out_idx[:,j])"
   ]
  },
  {
   "cell_type": "code",
   "execution_count": 22,
   "metadata": {},
   "outputs": [
    {
     "data": {
      "text/plain": [
       "6239"
      ]
     },
     "execution_count": 22,
     "metadata": {},
     "output_type": "execute_result"
    }
   ],
   "source": [
    "np.sum(np.logical_and(out_idx[:,1] == out_idx[:,2], out_idx[:,1] == out_idx[:,3]))"
   ]
  },
  {
   "cell_type": "code",
   "execution_count": 23,
   "metadata": {},
   "outputs": [
    {
     "data": {
      "text/plain": [
       "array([[34.,  9.],\n",
       "       [22., 13.],\n",
       "       [24.,  4.],\n",
       "       ...,\n",
       "       [13.,  6.],\n",
       "       [55.,  1.],\n",
       "       [39.,  4.]])"
      ]
     },
     "execution_count": 23,
     "metadata": {},
     "output_type": "execute_result"
    }
   ],
   "source": [
    "conuter_maxSumPT_vtx[np.logical_and(out_idx[:,1] == out_idx[:,2], out_idx[:,1] == out_idx[:,3])]"
   ]
  },
  {
   "cell_type": "code",
   "execution_count": 26,
   "metadata": {},
   "outputs": [
    {
     "data": {
      "image/png": "[encoded data removed]",
      "text/plain": [
       "<Figure size 432x288 with 1 Axes>"
      ]
     },
     "metadata": {},
     "output_type": "display_data"
    }
   ],
   "source": [
    "out = plt.hist(conuter_maxSumPT_vtx[:,0]/(conuter_maxSumPT_vtx[:,0] + conuter_maxSumPT_vtx[:,1]), bins=50)"
   ]
  },
  {
   "cell_type": "code",
   "execution_count": 27,
   "metadata": {},
   "outputs": [
    {
     "data": {
      "image/png": "[encoded data removed]",
      "text/plain": [
       "<Figure size 432x288 with 1 Axes>"
      ]
     },
     "metadata": {},
     "output_type": "display_data"
    }
   ],
   "source": [
    "out = plt.hist(conuter_maxSumPT_vtx[:,1]/(conuter_maxSumPT_vtx[:,0] + conuter_maxSumPT_vtx[:,1]), bins=50)"
   ]
  },
  {
   "cell_type": "code",
   "execution_count": 33,
   "metadata": {},
   "outputs": [
    {
     "data": {
      "text/plain": [
       "array([36., 36., 25., ..., 15., 55., 40.])"
      ]
     },
     "execution_count": 33,
     "metadata": {},
     "output_type": "execute_result"
    }
   ],
   "source": [
    "N_tk_genPV"
   ]
  },
  {
   "cell_type": "code",
   "execution_count": 34,
   "metadata": {},
   "outputs": [
    {
     "data": {
      "image/png": "[encoded data removed]",
      "text/plain": [
       "<Figure size 432x288 with 1 Axes>"
      ]
     },
     "metadata": {},
     "output_type": "display_data"
    }
   ],
   "source": [
    "out = plt.hist(conuter_maxSumPT_vtx[:,0][N_tk_genPV>0]/N_tk_genPV[N_tk_genPV>0], bins=50)"
   ]
  },
  {
   "cell_type": "code",
   "execution_count": null,
   "metadata": {},
   "outputs": [],
   "source": [
    "# for i in range(numberOfEntries):\n",
    "#     treeReader.ReadEntry(i)\n",
    "#     nv = branch['Vertex4D'].GetEntries()\n",
    "    \n",
    "#     sumpt2_reco = np.zeros(nv)\n",
    "#     for j in range(nv):\n",
    "#         sumpt2_reco[j] = branch['Vertex4D'].At(j).SumPT\n",
    "\n",
    "#     sumpt2_REreco = np.zeros(nv)\n",
    "#     for j in range(branch['Track'].GetEntries()):\n",
    "#         track = branch['Track'].At(j)\n",
    "#         if track.VertexIndex >= 0:\n",
    "#             sumpt2_REreco[track.VertexIndex] += track.PT\n",
    "            \n",
    "#     if np.sum(np.abs(sumpt2_reco - sumpt2_REreco))>1:\n",
    "#         print \"-----  Event\", i\n",
    "#         for j in range(nv):\n",
    "#             print '{}: {:.1f}  -  {:.1f}'.format(j, sumpt2_REreco[j] , sumpt2_reco[j])"
   ]
  },
  {
   "cell_type": "code",
   "execution_count": null,
   "metadata": {
    "scrolled": true
   },
   "outputs": [],
   "source": [
    "# gvtx_names = ['Nev','z','t', 'IsPU']\n",
    "# gvtx_att = []\n",
    "\n",
    "# rvtx_names = ['Nev','z','t', 'dz', 'dt', 'ndf', 'sumpt2', 'sum_pt', 'N_Rhad', 'max_pt_tk']\n",
    "# rvtx_att_global = []\n",
    "\n",
    "\n",
    "# for i in range(numberOfEntries):\n",
    "#     treeReader.ReadEntry(i)\n",
    "    \n",
    "#     for j in range(branch['GenVertex'].GetEntries()):\n",
    "#         vtx = branch['GenVertex'].At(j)\n",
    "        \n",
    "#         p = vtx.Constituents.At(0)\n",
    "#         ispu = p.IsPU\n",
    "        \n",
    "#         gvtx_att.append((i, vtx.Z, vtx.T*1E12, ispu))\n",
    "    \n",
    "#     rvtx_att = []\n",
    "#     for j in range(branch['Vertex4D'].GetEntries()):\n",
    "#         vtx = branch['Vertex4D'].At(j)\n",
    "        \n",
    "#         rvtx_att.append([i, vtx.Z, vtx.T*1E12, vtx.ErrorZ, vtx.ErrorT*1E12, vtx.NDF, 0, 0, 0, 0])\n",
    "        \n",
    "#     for j in range(branch['Track'].GetEntries()):\n",
    "#         track = branch['Track'].At(j)\n",
    "#         if track.VertexIndex >= 0:\n",
    "#             k = track.VertexIndex\n",
    "#             pt = track.PT\n",
    "#             rvtx_att[k][6] += pt**2\n",
    "#             rvtx_att[k][7] += pt\n",
    "            \n",
    "#             if pt>rvtx_att[k][9]:\n",
    "#                 rvtx_att[k][9] = pt\n",
    "            \n",
    "#             if abs(track.PID)>5000:\n",
    "#                 rvtx_att[k][8] += 1\n",
    "                \n",
    "#     for j in range(len(rvtx_att)):\n",
    "#         rvtx_att_global.append(rvtx_att[j])\n",
    "        \n",
    "# #         np = vtx.Constituents.GetEntriesFast()\n",
    "# #         for k in range(np):\n",
    "# #             tr = vtx.Constituents.At(k)\n",
    "# #             print tr.GetName()\n",
    "    \n",
    "\n",
    "# gen_vtx = np.array(gvtx_att, dtype=zip(gvtx_names,['<f8']*len(gvtx_names)))\n",
    "# reco_vtx = np.array(rvtx_att_global, dtype=zip(rvtx_names,['<f8']*len(rvtx_names)))\n",
    "\n",
    "# print reco_vtx.shape"
   ]
  },
  {
   "cell_type": "markdown",
   "metadata": {},
   "source": [
    "Qualche plot per far vedere la qualita dei reco vtx"
   ]
  },
  {
   "cell_type": "code",
   "execution_count": null,
   "metadata": {
    "scrolled": true
   },
   "outputs": [],
   "source": [
    "# %matplotlib notebook\n",
    "# N_ev = 15\n",
    "\n",
    "# plt.figure(figsize=(8,8))\n",
    "\n",
    "# z_gen = gen_vtx['z'][gen_vtx['Nev'] == N_ev]\n",
    "# t_gen = gen_vtx['t'][gen_vtx['Nev'] == N_ev]\n",
    "\n",
    "\n",
    "# z_reco = reco_vtx['z'][reco_vtx['Nev'] == N_ev]\n",
    "# t_reco = reco_vtx['t'][reco_vtx['Nev'] == N_ev]\n",
    "# dz_reco = reco_vtx['dz'][reco_vtx['Nev'] == N_ev]\n",
    "# dt_reco = reco_vtx['dt'][reco_vtx['Nev'] == N_ev]\n",
    "\n",
    "# # the PV is always the first\n",
    "# plt.plot(t_gen[0], z_gen[0], 'Dg', label='Gen PV', markersize=7)\n",
    "# plt.plot(t_gen[1:], z_gen[1:], '*g', label='Gen PU', markersize=5)\n",
    "\n",
    "\n",
    "# plt.errorbar(t_reco, z_reco, xerr=dt_reco, yerr=dz_reco, fmt='r.', label='Reco Vtx', markersize=7)\n",
    "\n",
    "# plt.legend(loc='best')\n",
    "# plt.xlabel(r'$Time$  [ps]')\n",
    "# plt.ylabel(r'$Z$ [mm]')\n",
    "# plt.grid()"
   ]
  },
  {
   "cell_type": "code",
   "execution_count": null,
   "metadata": {},
   "outputs": [],
   "source": [
    "# for i in range(numberOfEntries):\n",
    "#     treeReader.ReadEntry(i)\n",
    "#     nv = branch['Vertex4D'].GetEntries()\n",
    "#     sumpt2_reco = np.zeros(nv)\n",
    "#     for j in range(nv):\n",
    "#         vtx = branch['Vertex4D'].At(j)\n",
    "#         sumpt2_reco[j] = vtx.SumPT2\n",
    "    \n",
    "#     sumpt2_REreco = np.zeros(nv)\n",
    "#     for j in range(branch['Track'].GetEntries()):\n",
    "#         track = branch['Track'].At(j)\n",
    "#         if track.VertexIndex >= 0:\n",
    "#             sumpt2_REreco[track.VertexIndex] += track.PT**2\n",
    "#     if np.sum(np.abs(sumpt2_reco - sumpt2_REreco))>1:\n",
    "#         print i,':', sumpt2_reco, sumpt2_REreco\n",
    "#         print i,':', sumpt2_reco - sumpt2_REreco"
   ]
  },
  {
   "cell_type": "code",
   "execution_count": null,
   "metadata": {},
   "outputs": [],
   "source": []
  }
 ],
 "metadata": {
  "kernelspec": {
   "display_name": "Python 2",
   "language": "python",
   "name": "python2"
  },
  "language_info": {
   "codemirror_mode": {
    "name": "ipython",
    "version": 2
   },
   "file_extension": ".py",
   "mimetype": "text/x-python",
   "name": "python",
   "nbconvert_exporter": "python",
   "pygments_lexer": "ipython2",
   "version": "2.7.14"
  }
 },
 "nbformat": 4,
 "nbformat_minor": 2
}
